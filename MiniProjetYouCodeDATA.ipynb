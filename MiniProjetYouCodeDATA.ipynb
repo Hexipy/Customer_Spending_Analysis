{
 "cells": [
  {
   "cell_type": "code",
   "execution_count": null,
   "id": "ae10318f-0e29-4cfd-8b22-e4335955d189",
   "metadata": {},
   "outputs": [],
   "source": [
    "import pandas as pd"
   ]
  },
  {
   "cell_type": "code",
   "execution_count": null,
   "id": "bfcb9130-b77a-409f-bcc1-7f14edc97cf8",
   "metadata": {},
   "outputs": [],
   "source": [
    "from matplotlib import pyplot as plt"
   ]
  },
  {
   "cell_type": "code",
   "execution_count": null,
   "id": "42d18d78-be25-4624-a3b3-be6a806428ed",
   "metadata": {},
   "outputs": [],
   "source": [
    "data_frame = pd.read_excel('data-sell4all.xlsx')"
   ]
  },
  {
   "cell_type": "code",
   "execution_count": null,
   "id": "ec4efe1e-1c71-4fff-b70c-47c2e17a443d",
   "metadata": {},
   "outputs": [],
   "source": [
    "data_frame.head()"
   ]
  },
  {
   "cell_type": "code",
   "execution_count": null,
   "id": "ae425bb4-8559-4cf1-911c-e0422b7c1f8b",
   "metadata": {},
   "outputs": [],
   "source": [
    "# Affiicher Nombre de Lignes et Colonnes\n",
    "print(\"Nombre de lignes:\", data_frame.shape[0])\n",
    "print(\"Les colonnes du fichier CSV:\", data_frame.columns.tolist())"
   ]
  },
  {
   "cell_type": "code",
   "execution_count": null,
   "id": "5bbb40ea-e15d-42a8-86b3-f10a4e614313",
   "metadata": {},
   "outputs": [],
   "source": [
    "# Afficher les types de données avant nettoyage\n",
    "print(\"Initial data types:\\n\", data_frame.dtypes)"
   ]
  },
  {
   "cell_type": "code",
   "execution_count": null,
   "id": "d14b2834-02af-4ed0-8a00-70396d91d11d",
   "metadata": {},
   "outputs": [],
   "source": [
    "# Gérer les valeurs manquantes\n",
    "data_frame = data_frame.dropna()"
   ]
  },
  {
   "cell_type": "code",
   "execution_count": null,
   "id": "a9e885f7-4683-4e8d-b0cd-012f01f4180e",
   "metadata": {},
   "outputs": [],
   "source": [
    "# Convertir les colonnes en types de données appropriés\n",
    "data_frame[' Age '] = pd.to_numeric(data_frame[' Age '], errors='coerce')  # Convert Age to numeric, coerce errors\n",
    "data_frame['Dépenses des clients'] = pd.to_numeric(data_frame['Dépenses des clients'], errors='coerce')  # Convert to numeric"
   ]
  },
  {
   "cell_type": "code",
   "execution_count": null,
   "id": "4c0571fb-ebe8-438a-a068-29694e6a7ba6",
   "metadata": {},
   "outputs": [],
   "source": [
    "# Supprimer les lignes où la conversion a échoué entraînant des NaN(not a number)\n",
    "data_frame = data_frame.dropna()"
   ]
  },
  {
   "cell_type": "code",
   "execution_count": null,
   "id": "542b61a9-f84b-48c4-8248-185e4fde4a45",
   "metadata": {},
   "outputs": [],
   "source": [
    "# Réinitialiser l'index après le nettoyage\n",
    "data_frame.reset_index(drop=True, inplace=True)"
   ]
  },
  {
   "cell_type": "code",
   "execution_count": null,
   "id": "d8cffe2a-b308-4c2c-84b0-fdf15e4c470a",
   "metadata": {},
   "outputs": [],
   "source": [
    "# conversion Age (float to int)\n",
    "data_frame[' Age '] = data_frame[' Age '].astype(int)"
   ]
  },
  {
   "cell_type": "code",
   "execution_count": null,
   "id": "a2aa5fb0-a537-46e0-b49a-4aede944d09d",
   "metadata": {},
   "outputs": [],
   "source": [
    "#Types de données des champs du fichier CSV (Après Nettoyage)\n",
    "print(data_frame.dtypes)"
   ]
  },
  {
   "cell_type": "markdown",
   "id": "e2427d9a-4ff9-4d53-b052-8f0e8a9bd803",
   "metadata": {},
   "source": [
    "## Résumé Technique des Données Nettoyées\n",
    "\n",
    "Après avoir nettoyé les données manquantes, voici un résumé technique du fichier CSV :\n",
    "\n",
    "1. **Nombre de lignes :** Le nombre total d'enregistrements dans le DataFrame nettoyé.\n",
    "\n",
    "2. **Colonnes du fichier CSV :** La liste des colonnes présentes dans le DataFrame après le nettoyage. Chaque colonne correspond à un attribut des données, comme \"Pays\", \"Âge\", \"Genre\", et \"Dépenses des clients\".\n",
    "\n",
    "3. **Types de données des champs du fichier CSV :** Les types de données pour chaque colonne du DataFrame. Cela indique le type de données stockées dans chaque colonne, telles que :\n",
    "   - **object :** Généralement des chaînes de caractères ou des valeurs mixtes.\n",
    "   - **int :** Entiers.\n",
    "   - **float :** Nombres à virgule flottante.\n",
    "\n",
    "   Par exemple :\n",
    "   - **Pays** est de type `object` car il contient des noms de pays.\n",
    "   - **Âge** est de type `int`.\n",
    "   - **Genre** est de type `object` car il contient des chaînes de caractères représentant les genres.\n",
    "   - **Dépenses des clients** est de type `float` car il représente des montants monétaires.\n",
    "\n",
    "4. **Détails après nettoyage :** Les informations affichées montrent les modifications effectuées lors du nettoyage, telles que la suppression des lignes avec des valeurs manquantes (`NaN`), et la conversion des données en types appropriés. Cela garantit que toutes les données restantes sont valides et cohérentes pour les analyses ultérieures."
   ]
  },
  {
   "cell_type": "code",
   "execution_count": null,
   "id": "4979099e-9005-4849-b8ab-5aacb1eb73c6",
   "metadata": {},
   "outputs": [],
   "source": [
    "# Calculer la médiane et la moyenne pour la colonne \"Âge\"\n",
    "age_median = data_frame[' Age '].median()\n",
    "age_mean = data_frame[' Age '].mean()\n",
    "\n",
    "# Calculer la médiane et la moyenne pour la colonne \"Dépenses des clients\"\n",
    "depenses_median = data_frame['Dépenses des clients'].median()\n",
    "depenses_mean = data_frame['Dépenses des clients'].mean()\n",
    "\n",
    "# Afficher les résultats\n",
    "print(\"Médiane de l'âge :\", age_median)\n",
    "print(\"Moyenne de l'âge :\", age_mean)\n",
    "print(\"Médiane des dépenses des clients :\", depenses_median)\n",
    "print(\"Moyenne des dépenses des clients :\", depenses_mean)"
   ]
  },
  {
   "cell_type": "code",
   "execution_count": null,
   "id": "2de9c298-8e44-4d30-8481-083f7ae9bfd9",
   "metadata": {},
   "outputs": [],
   "source": [
    "# Grouper les données par pays et calculer la somme des dépenses\n",
    "depenses_par_pays = data_frame.groupby('Pays')['Dépenses des clients'].sum()"
   ]
  },
  {
   "cell_type": "code",
   "execution_count": null,
   "id": "54fe6544-d94b-4c13-8446-be0edd36e227",
   "metadata": {},
   "outputs": [],
   "source": [
    "# Créer le graphique à barres\n",
    "plt.figure(figsize=(10, 6))\n",
    "depenses_par_pays.plot(kind='bar', color='green')\n",
    "# Ajouter un titre et des étiquettes\n",
    "plt.title('Dépenses des clients par pays')\n",
    "plt.xlabel('Pays')\n",
    "plt.ylabel('Dépenses des clients (en €)')\n",
    "plt.xticks(rotation=45)\n",
    "plt.ylim(0, 1000000)\n",
    "plt.grid(axis='y', linestyle='--', alpha=0.7)\n",
    "# Afficher le graphique\n",
    "plt.tight_layout()\n",
    "plt.show()"
   ]
  },
  {
   "cell_type": "code",
   "execution_count": null,
   "id": "a20387fe-67c6-4973-955b-8f4a8aa6e6a7",
   "metadata": {},
   "outputs": [],
   "source": [
    "# Filtrer les données pour ne conserver que les lignes avec « Dépenses des clients » >= 10\n",
    "data_frame = data_frame[data_frame['Dépenses des clients'] >= 10]"
   ]
  },
  {
   "cell_type": "code",
   "execution_count": null,
   "id": "851e675e-787f-42e7-bb6e-7aa437fe8df9",
   "metadata": {},
   "outputs": [],
   "source": [
    "# Nettoyage des doublons\n",
    "data_frame = data_frame.drop_duplicates()"
   ]
  },
  {
   "cell_type": "code",
   "execution_count": null,
   "id": "bda7da8b-e21f-4be5-a146-dc23c2e6e074",
   "metadata": {},
   "outputs": [],
   "source": [
    "data_frame = data_frame.dropna(how='all')"
   ]
  },
  {
   "cell_type": "code",
   "execution_count": null,
   "id": "8cf5e2b7-4206-41c5-a8ad-a6d768c0b931",
   "metadata": {},
   "outputs": [],
   "source": [
    "# enregistrement des données nettoyées dans un nouveau fichier CSV\n",
    "data_frame.to_csv('donnees_nettoyes.csv', columns=['Pays', ' Age ', 'Genre', 'Dépenses des clients'], index=False)"
   ]
  }
 ],
 "metadata": {
  "kernelspec": {
   "display_name": "Python 3 (ipykernel)",
   "language": "python",
   "name": "python3"
  },
  "language_info": {
   "codemirror_mode": {
    "name": "ipython",
    "version": 3
   },
   "file_extension": ".py",
   "mimetype": "text/x-python",
   "name": "python",
   "nbconvert_exporter": "python",
   "pygments_lexer": "ipython3",
   "version": "3.12.5"
  }
 },
 "nbformat": 4,
 "nbformat_minor": 5
}
